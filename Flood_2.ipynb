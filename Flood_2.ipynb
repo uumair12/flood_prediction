{
 "cells": [
  {
   "cell_type": "markdown",
   "id": "f018475c",
   "metadata": {},
   "source": [
    "### Part 1 : Data PreProcessing"
   ]
  },
  {
   "cell_type": "code",
   "execution_count": 58,
   "id": "47986558",
   "metadata": {},
   "outputs": [],
   "source": [
    "import numpy as np\n",
    "import pandas as pd\n",
    "import matplotlib.pyplot as plt\n",
    "import datetime as dt\n",
    "from datetime import datetime\n",
    "from keras.callbacks import EarlyStopping, ReduceLROnPlateau, ModelCheckpoint, TensorBoard\n",
    "%matplotlib inline"
   ]
  },
  {
   "cell_type": "code",
   "execution_count": 59,
   "id": "5829180d",
   "metadata": {},
   "outputs": [],
   "source": [
    "# Importing Training Data Set\n",
    "dataset_train = pd.read_csv('Flood_Data2.csv')"
   ]
  },
  {
   "cell_type": "code",
   "execution_count": 60,
   "id": "b54a669e",
   "metadata": {},
   "outputs": [
    {
     "data": {
      "text/html": [
       "<div>\n",
       "<style scoped>\n",
       "    .dataframe tbody tr th:only-of-type {\n",
       "        vertical-align: middle;\n",
       "    }\n",
       "\n",
       "    .dataframe tbody tr th {\n",
       "        vertical-align: top;\n",
       "    }\n",
       "\n",
       "    .dataframe thead th {\n",
       "        text-align: right;\n",
       "    }\n",
       "</style>\n",
       "<table border=\"1\" class=\"dataframe\">\n",
       "  <thead>\n",
       "    <tr style=\"text-align: right;\">\n",
       "      <th></th>\n",
       "      <th>Date</th>\n",
       "      <th>Flow</th>\n",
       "      <th>405_Martin_Luther_King</th>\n",
       "      <th>410_Lawndale_Street</th>\n",
       "      <th>420_South_Main_Street</th>\n",
       "      <th>430_Stella_Link_Road</th>\n",
       "      <th>440_Rice_Avenue</th>\n",
       "      <th>460_Gessner_Road</th>\n",
       "      <th>465_Beltway_8</th>\n",
       "      <th>470_Belle_Park_Drive</th>\n",
       "      <th>475_Bellaire_Boulevard</th>\n",
       "      <th>485_SH_6</th>\n",
       "    </tr>\n",
       "  </thead>\n",
       "  <tbody>\n",
       "    <tr>\n",
       "      <th>0</th>\n",
       "      <td>1/1/2007 0:00</td>\n",
       "      <td>4.700456</td>\n",
       "      <td>0</td>\n",
       "      <td>0.0</td>\n",
       "      <td>0.0</td>\n",
       "      <td>0.0</td>\n",
       "      <td>0.0</td>\n",
       "      <td>0.0</td>\n",
       "      <td>0.0</td>\n",
       "      <td>0.0</td>\n",
       "      <td>0.0</td>\n",
       "      <td>0.0</td>\n",
       "    </tr>\n",
       "    <tr>\n",
       "      <th>1</th>\n",
       "      <td>1/1/2007 0:15</td>\n",
       "      <td>4.615508</td>\n",
       "      <td>0</td>\n",
       "      <td>0.0</td>\n",
       "      <td>0.0</td>\n",
       "      <td>0.0</td>\n",
       "      <td>0.0</td>\n",
       "      <td>0.0</td>\n",
       "      <td>0.0</td>\n",
       "      <td>0.0</td>\n",
       "      <td>0.0</td>\n",
       "      <td>0.0</td>\n",
       "    </tr>\n",
       "    <tr>\n",
       "      <th>2</th>\n",
       "      <td>1/1/2007 0:30</td>\n",
       "      <td>4.388980</td>\n",
       "      <td>0</td>\n",
       "      <td>0.0</td>\n",
       "      <td>0.0</td>\n",
       "      <td>0.0</td>\n",
       "      <td>0.0</td>\n",
       "      <td>0.0</td>\n",
       "      <td>0.0</td>\n",
       "      <td>0.0</td>\n",
       "      <td>0.0</td>\n",
       "      <td>0.0</td>\n",
       "    </tr>\n",
       "    <tr>\n",
       "      <th>3</th>\n",
       "      <td>1/1/2007 0:45</td>\n",
       "      <td>4.388980</td>\n",
       "      <td>0</td>\n",
       "      <td>0.0</td>\n",
       "      <td>0.0</td>\n",
       "      <td>0.0</td>\n",
       "      <td>0.0</td>\n",
       "      <td>0.0</td>\n",
       "      <td>0.0</td>\n",
       "      <td>0.0</td>\n",
       "      <td>0.0</td>\n",
       "      <td>0.0</td>\n",
       "    </tr>\n",
       "    <tr>\n",
       "      <th>4</th>\n",
       "      <td>1/1/2007 1:00</td>\n",
       "      <td>4.388980</td>\n",
       "      <td>0</td>\n",
       "      <td>0.0</td>\n",
       "      <td>0.0</td>\n",
       "      <td>0.0</td>\n",
       "      <td>0.0</td>\n",
       "      <td>0.0</td>\n",
       "      <td>0.0</td>\n",
       "      <td>0.0</td>\n",
       "      <td>0.0</td>\n",
       "      <td>0.0</td>\n",
       "    </tr>\n",
       "  </tbody>\n",
       "</table>\n",
       "</div>"
      ],
      "text/plain": [
       "            Date      Flow  405_Martin_Luther_King  410_Lawndale_Street  \\\n",
       "0  1/1/2007 0:00  4.700456                       0                  0.0   \n",
       "1  1/1/2007 0:15  4.615508                       0                  0.0   \n",
       "2  1/1/2007 0:30  4.388980                       0                  0.0   \n",
       "3  1/1/2007 0:45  4.388980                       0                  0.0   \n",
       "4  1/1/2007 1:00  4.388980                       0                  0.0   \n",
       "\n",
       "   420_South_Main_Street  430_Stella_Link_Road  440_Rice_Avenue  \\\n",
       "0                    0.0                   0.0              0.0   \n",
       "1                    0.0                   0.0              0.0   \n",
       "2                    0.0                   0.0              0.0   \n",
       "3                    0.0                   0.0              0.0   \n",
       "4                    0.0                   0.0              0.0   \n",
       "\n",
       "   460_Gessner_Road  465_Beltway_8  470_Belle_Park_Drive  \\\n",
       "0               0.0            0.0                   0.0   \n",
       "1               0.0            0.0                   0.0   \n",
       "2               0.0            0.0                   0.0   \n",
       "3               0.0            0.0                   0.0   \n",
       "4               0.0            0.0                   0.0   \n",
       "\n",
       "   475_Bellaire_Boulevard  485_SH_6  \n",
       "0                     0.0       0.0  \n",
       "1                     0.0       0.0  \n",
       "2                     0.0       0.0  \n",
       "3                     0.0       0.0  \n",
       "4                     0.0       0.0  "
      ]
     },
     "execution_count": 60,
     "metadata": {},
     "output_type": "execute_result"
    }
   ],
   "source": [
    "dataset_train.head()"
   ]
  },
  {
   "cell_type": "code",
   "execution_count": 61,
   "id": "9f887e1f",
   "metadata": {},
   "outputs": [],
   "source": [
    "# Selecting features (columns) to be involved in training and predictions\n",
    "\n",
    "cols = list(dataset_train)[1:11]"
   ]
  },
  {
   "cell_type": "code",
   "execution_count": 62,
   "id": "a3ed9a08",
   "metadata": {},
   "outputs": [
    {
     "name": "stdout",
     "output_type": "stream",
     "text": [
      "Training set shape == (19566, 12)\n",
      "All timestamps == 19566\n",
      "Featured selected: ['Flow', '405_Martin_Luther_King', '410_Lawndale_Street', '420_South_Main_Street', '430_Stella_Link_Road', '440_Rice_Avenue', '460_Gessner_Road', '465_Beltway_8', '470_Belle_Park_Drive', '475_Bellaire_Boulevard']\n"
     ]
    }
   ],
   "source": [
    "# Extracting dates\n",
    "\n",
    "datelist_train = list(dataset_train['Date'])\n",
    "datelist_train = [dt.datetime.strptime(date, '%m/%d/%Y %H:%M').date() for date in datelist_train]\n",
    "\n",
    "print('Training set shape == {}'.format(dataset_train.shape))\n",
    "print('All timestamps == {}'.format(len(datelist_train)))\n",
    "print('Featured selected: {}'.format(cols))"
   ]
  },
  {
   "cell_type": "code",
   "execution_count": 63,
   "id": "fd446da8",
   "metadata": {},
   "outputs": [
    {
     "name": "stdout",
     "output_type": "stream",
     "text": [
      "Shape of training set == (19566, 10).\n"
     ]
    },
    {
     "data": {
      "text/plain": [
       "array([[4.700456, 0.      , 0.      , ..., 0.      , 0.      , 0.      ],\n",
       "       [4.615508, 0.      , 0.      , ..., 0.      , 0.      , 0.      ],\n",
       "       [4.38898 , 0.      , 0.      , ..., 0.      , 0.      , 0.      ],\n",
       "       ...,\n",
       "       [5.6632  , 0.      , 0.      , ..., 0.      , 0.      , 0.      ],\n",
       "       [5.6632  , 0.      , 0.      , ..., 0.      , 0.      , 0.      ],\n",
       "       [5.748148, 0.      , 0.      , ..., 0.      , 0.      , 0.      ]])"
      ]
     },
     "execution_count": 63,
     "metadata": {},
     "output_type": "execute_result"
    }
   ],
   "source": [
    "# converting data to matrix shape format and removing commas\n",
    "\n",
    "dataset_train = dataset_train[cols].astype(str)\n",
    "for i in cols:\n",
    "    for j in range(0, len(dataset_train)):\n",
    "        dataset_train[i][j] = dataset_train[i][j].replace(',', '')\n",
    "\n",
    "dataset_train = dataset_train.astype(float)\n",
    "\n",
    "# Using multiple predictors (features)\n",
    "\n",
    "training_set = dataset_train.values\n",
    "\n",
    "print('Shape of training set == {}.'.format(training_set.shape))\n",
    "training_set"
   ]
  },
  {
   "cell_type": "code",
   "execution_count": 64,
   "id": "3f517d66",
   "metadata": {},
   "outputs": [
    {
     "data": {
      "text/plain": [
       "array([[-0.34532576],\n",
       "       [-0.34833589],\n",
       "       [-0.35636289],\n",
       "       ...,\n",
       "       [-0.31121099],\n",
       "       [-0.31121099],\n",
       "       [-0.30820086]])"
      ]
     },
     "execution_count": 64,
     "metadata": {},
     "output_type": "execute_result"
    }
   ],
   "source": [
    "# Feature Scaling \n",
    "\n",
    "from sklearn.preprocessing import StandardScaler\n",
    "\n",
    "sc = StandardScaler()\n",
    "training_set_scaled = sc.fit_transform(training_set)\n",
    "\n",
    "sc_predict = StandardScaler()\n",
    "sc_predict.fit_transform(training_set[:, 0:1])"
   ]
  },
  {
   "cell_type": "code",
   "execution_count": 65,
   "id": "5734a9cb",
   "metadata": {},
   "outputs": [
    {
     "name": "stdout",
     "output_type": "stream",
     "text": [
      "X_train shape == (19417, 90, 9)\n",
      "y_train shape == (19417, 0)\n"
     ]
    }
   ],
   "source": [
    "# Creating a data structure with 90 timestamps and 1 output\n",
    "\n",
    "X_train = []\n",
    "y_train = []\n",
    "\n",
    "n_future = 60  # number of days we want to predict into the future\n",
    "n_past = 90 # number of past days we want to use to predict the future \n",
    "\n",
    "for i in range(n_past, len(training_set_scaled) - n_future + 1):\n",
    "    X_train.append(training_set_scaled[i - n_past:i, 0:dataset_train.shape[1] - 1])\n",
    "    y_train.append(training_set_scaled[i + n_future:i + n_future, 0])\n",
    "\n",
    "X_train, y_train = np.array(X_train), np.array(y_train)\n",
    "\n",
    "print('X_train shape == {}'.format(X_train.shape))\n",
    "print('y_train shape == {}'.format(y_train.shape))\n"
   ]
  },
  {
   "cell_type": "markdown",
   "id": "aee05ab6",
   "metadata": {},
   "source": [
    "### Part 2 Creating a Model , Training"
   ]
  },
  {
   "cell_type": "code",
   "execution_count": 66,
   "id": "48d7b135",
   "metadata": {},
   "outputs": [],
   "source": [
    "# Building the LSTM based Neural Network"
   ]
  },
  {
   "cell_type": "code",
   "execution_count": 67,
   "id": "ef3ffd62",
   "metadata": {},
   "outputs": [],
   "source": [
    "#Importing Packages and Libraries from Keras\n",
    "from keras.models import Sequential\n",
    "from keras.layers import Dense\n",
    "from keras.layers import LSTM\n",
    "from keras.layers import Dropout\n",
    "from keras.optimizers import Adam"
   ]
  },
  {
   "cell_type": "code",
   "execution_count": 68,
   "id": "c9d14994",
   "metadata": {},
   "outputs": [],
   "source": [
    "# Intitializing the neural network based on LSTM\n",
    "\n",
    "model = Sequential()"
   ]
  },
  {
   "cell_type": "code",
   "execution_count": 69,
   "id": "67ea892e",
   "metadata": {},
   "outputs": [],
   "source": [
    "# Adding 1st LSTM layer\n",
    "\n",
    "model.add(LSTM(units=64, return_sequences=True, input_shape=(n_past, dataset_train.shape[1]-1)))\n",
    "\n",
    "# Adding 2nd LSTM layer\n",
    "\n",
    "model.add(LSTM(units=10, return_sequences=False))\n",
    "\n",
    "# Adding dropout\n",
    "\n",
    "model.add(Dropout(0.25))\n",
    "\n",
    "# Output layer \n",
    "model.add(Dense(units=1, activation='linear'))\n",
    "\n",
    "# Compiling the Neural Network\n",
    "\n",
    "model.compile(optimizer = Adam(learning_rate=0.01), loss='mean_squared_error')"
   ]
  },
  {
   "cell_type": "code",
   "execution_count": 70,
   "id": "7885e302",
   "metadata": {},
   "outputs": [],
   "source": [
    "# Start Training"
   ]
  },
  {
   "cell_type": "code",
   "execution_count": 71,
   "id": "5aaf9698",
   "metadata": {
    "scrolled": true
   },
   "outputs": [
    {
     "name": "stdout",
     "output_type": "stream",
     "text": [
      "Epoch 1/30\n",
      "61/61 [==============================] - ETA: 0s - loss: nan\n",
      "Epoch 1: val_loss did not improve from inf\n",
      "61/61 [==============================] - 25s 328ms/step - loss: nan - val_loss: nan - lr: 0.0100\n",
      "Epoch 2/30\n",
      "61/61 [==============================] - ETA: 0s - loss: nan\n",
      "Epoch 2: val_loss did not improve from inf\n",
      "61/61 [==============================] - 16s 259ms/step - loss: nan - val_loss: nan - lr: 0.0100\n",
      "Epoch 3/30\n",
      "61/61 [==============================] - ETA: 0s - loss: nan\n",
      "Epoch 3: val_loss did not improve from inf\n",
      "61/61 [==============================] - 19s 311ms/step - loss: nan - val_loss: nan - lr: 0.0100\n",
      "Epoch 4/30\n",
      "61/61 [==============================] - ETA: 0s - loss: nan\n",
      "Epoch 4: val_loss did not improve from inf\n",
      "61/61 [==============================] - 21s 337ms/step - loss: nan - val_loss: nan - lr: 0.0100\n",
      "Epoch 5/30\n",
      "61/61 [==============================] - ETA: 0s - loss: nan\n",
      "Epoch 5: val_loss did not improve from inf\n",
      "61/61 [==============================] - 16s 258ms/step - loss: nan - val_loss: nan - lr: 0.0100\n",
      "Epoch 6/30\n",
      "61/61 [==============================] - ETA: 0s - loss: nan\n",
      "Epoch 6: val_loss did not improve from inf\n",
      "61/61 [==============================] - 14s 234ms/step - loss: nan - val_loss: nan - lr: 0.0100\n",
      "Epoch 7/30\n",
      "61/61 [==============================] - ETA: 0s - loss: nan\n",
      "Epoch 7: val_loss did not improve from inf\n",
      "61/61 [==============================] - 16s 271ms/step - loss: nan - val_loss: nan - lr: 0.0100\n",
      "Epoch 8/30\n",
      "61/61 [==============================] - ETA: 0s - loss: nan\n",
      "Epoch 8: val_loss did not improve from inf\n",
      "61/61 [==============================] - 15s 253ms/step - loss: nan - val_loss: nan - lr: 0.0100\n",
      "Epoch 9/30\n",
      "61/61 [==============================] - ETA: 0s - loss: nan\n",
      "Epoch 9: val_loss did not improve from inf\n",
      "61/61 [==============================] - 17s 278ms/step - loss: nan - val_loss: nan - lr: 0.0100\n",
      "Epoch 10/30\n",
      "61/61 [==============================] - ETA: 0s - loss: nan\n",
      "Epoch 10: ReduceLROnPlateau reducing learning rate to 0.004999999888241291.\n",
      "\n",
      "Epoch 10: val_loss did not improve from inf\n",
      "61/61 [==============================] - 16s 256ms/step - loss: nan - val_loss: nan - lr: 0.0100\n",
      "Epoch 10: early stopping\n",
      "Wall time: 2min 56s\n"
     ]
    }
   ],
   "source": [
    "%%time\n",
    "\n",
    "es = EarlyStopping(monitor='val_loss', min_delta=1e-10, patience=10, verbose=1)\n",
    "rlr = ReduceLROnPlateau(monitor='val_loss', factor=0.5, patience=10, verbose=1)\n",
    "mcp = ModelCheckpoint(filepath='weights.h5', monitor='val_loss', verbose=1, save_best_only=True, save_weights_only=True)\n",
    "\n",
    "tb = TensorBoard('logs')\n",
    "history = model.fit(X_train, y_train, shuffle=True, epochs=30, callbacks=[es, rlr, mcp, tb], validation_split=0.2, verbose=1, batch_size=256)"
   ]
  },
  {
   "cell_type": "markdown",
   "id": "b2c2a963",
   "metadata": {},
   "source": [
    "### Part 3:"
   ]
  },
  {
   "cell_type": "code",
   "execution_count": 72,
   "id": "e8861485",
   "metadata": {},
   "outputs": [],
   "source": [
    "#Step 5: Make predictions for future dates"
   ]
  },
  {
   "cell_type": "code",
   "execution_count": 73,
   "id": "20d61c0c",
   "metadata": {},
   "outputs": [],
   "source": [
    "# Generate list of sequence of days for predictions\n",
    "\n",
    "datelist_future = pd.date_range(datelist_train[-1], periods=n_future, freq='1d').tolist()\n",
    "\n",
    "# Convert Pandas Timestamp to Datetime object (for transformation) --> FUTURE\n",
    "\n",
    "datelist_future_ = []\n",
    "for this_timestamp in datelist_future:\n",
    "    datelist_future_.append(this_timestamp.date())"
   ]
  },
  {
   "cell_type": "code",
   "execution_count": 74,
   "id": "dc5c4fe5",
   "metadata": {},
   "outputs": [
    {
     "name": "stdout",
     "output_type": "stream",
     "text": [
      "2/2 [==============================] - 1s 37ms/step\n",
      "604/604 [==============================] - 18s 29ms/step\n"
     ]
    }
   ],
   "source": [
    "# Perform Prediction\n",
    "\n",
    "predictions_future = model.predict(X_train[-n_future:])\n",
    "\n",
    "predictions_train = model.predict(X_train[n_past:])"
   ]
  },
  {
   "cell_type": "code",
   "execution_count": 75,
   "id": "0aa579ff",
   "metadata": {},
   "outputs": [
    {
     "data": {
      "text/html": [
       "<div>\n",
       "<style scoped>\n",
       "    .dataframe tbody tr th:only-of-type {\n",
       "        vertical-align: middle;\n",
       "    }\n",
       "\n",
       "    .dataframe tbody tr th {\n",
       "        vertical-align: top;\n",
       "    }\n",
       "\n",
       "    .dataframe thead th {\n",
       "        text-align: right;\n",
       "    }\n",
       "</style>\n",
       "<table border=\"1\" class=\"dataframe\">\n",
       "  <thead>\n",
       "    <tr style=\"text-align: right;\">\n",
       "      <th></th>\n",
       "      <th>Flow</th>\n",
       "    </tr>\n",
       "  </thead>\n",
       "  <tbody>\n",
       "    <tr>\n",
       "      <th>2007-01-03</th>\n",
       "      <td>15.695378</td>\n",
       "    </tr>\n",
       "    <tr>\n",
       "      <th>2007-01-03</th>\n",
       "      <td>15.695052</td>\n",
       "    </tr>\n",
       "    <tr>\n",
       "      <th>2007-01-03</th>\n",
       "      <td>15.694824</td>\n",
       "    </tr>\n",
       "    <tr>\n",
       "      <th>2007-01-03</th>\n",
       "      <td>15.694048</td>\n",
       "    </tr>\n",
       "    <tr>\n",
       "      <th>2007-01-03</th>\n",
       "      <td>15.693092</td>\n",
       "    </tr>\n",
       "  </tbody>\n",
       "</table>\n",
       "</div>"
      ],
      "text/plain": [
       "                 Flow\n",
       "2007-01-03  15.695378\n",
       "2007-01-03  15.695052\n",
       "2007-01-03  15.694824\n",
       "2007-01-03  15.694048\n",
       "2007-01-03  15.693092"
      ]
     },
     "execution_count": 75,
     "metadata": {},
     "output_type": "execute_result"
    }
   ],
   "source": [
    "# Inverse the predictions to orginial measurements\n",
    "\n",
    "# special function convert <datetime.date> to <Timestamp>\n",
    "\n",
    "def datetime_to_timestamp(x):\n",
    "    '''\n",
    "        x : a given datetime value (datetime.date)\n",
    "    '''\n",
    "    return datetime.strptime(x.strftime('%m/%d/%Y %H:%M'), '%m/%d/%Y %H:%M')\n",
    "\n",
    "\n",
    "y_pred_future = sc_predict.inverse_transform(predictions_future)\n",
    "y_pred_train = sc_predict.inverse_transform(predictions_train) \n",
    "\n",
    "PREDICTIONS_FUTURE = pd.DataFrame(y_pred_future, columns=['Flow']).set_index(pd.Series(datelist_future))\n",
    "PREDICTION_TRAIN = pd.DataFrame(y_pred_train, columns=['Flow']).set_index(pd.Series(datelist_train[2 * n_past + n_future -1:]))\n",
    "\n",
    "# Convert <datetime.date> to <TimeStamp> for Predition_Train\n",
    "\n",
    "PREDICTION_TRAIN.index = PREDICTION_TRAIN.index.to_series().apply(datetime_to_timestamp)\n",
    "\n",
    "PREDICTION_TRAIN.head()"
   ]
  },
  {
   "cell_type": "code",
   "execution_count": 76,
   "id": "24dd5a20",
   "metadata": {},
   "outputs": [],
   "source": [
    "# Step 6 : Visualize the Predictions"
   ]
  },
  {
   "cell_type": "code",
   "execution_count": 77,
   "id": "6a0b4cfd",
   "metadata": {},
   "outputs": [],
   "source": [
    "# Parse training set timestamp for better visualization\n",
    "\n",
    "dataset_train = pd.DataFrame(dataset_train, columns=cols)\n",
    "dataset_train.index = datelist_train\n",
    "dataset_train.index = pd.to_datetime(dataset_train.index)"
   ]
  },
  {
   "cell_type": "code",
   "execution_count": 85,
   "id": "7389d41b",
   "metadata": {},
   "outputs": [
    {
     "data": {
      "image/png": "[encoded data removed]",
      "text/plain": [
       "<Figure size 1080x360 with 1 Axes>"
      ]
     },
     "metadata": {
      "needs_background": "light"
     },
     "output_type": "display_data"
    }
   ],
   "source": [
    "# Set Plot Size\n",
    "\n",
    "from pylab import rcParams\n",
    "rcParams['figure.figsize'] = 15,5\n",
    "\n",
    "# Plot Parameters\n",
    "\n",
    "START_DATE_FOR_PLOTTING = '2007-01-01'\n",
    "\n",
    "plt.plot(PREDICTIONS_FUTURE.index, PREDICTIONS_FUTURE['Flow'], color='r', label= 'Predicted Flow')\n",
    "plt.plot(PREDICTION_TRAIN.loc[START_DATE_FOR_PLOTTING:].index, PREDICTION_TRAIN.loc[START_DATE_FOR_PLOTTING:]['Flow'], color='orange', label='Training Predictions')\n",
    "plt.plot(dataset_train.loc[START_DATE_FOR_PLOTTING:].index, dataset_train.loc[START_DATE_FOR_PLOTTING:]['Flow'], color='b', label='Actual Flow')\n",
    "\n",
    "plt.axvline(x = min(PREDICTIONS_FUTURE.index), color='green', linewidth=2, linestyle='--')\n",
    "\n",
    "plt.grid(which='major', color='#cccccc', alpha=0.5)\n",
    "\n",
    "plt.legend(shadow=True)\n",
    "plt.title('Predictions and Actual Flow', family='Arial', fontsize=12)\n",
    "plt.xlabel('Timeline', family='Arial', fontsize=10)\n",
    "plt.ylabel('Flow Value', family='Arial', fontsize=10)\n",
    "plt.xticks(rotation=45, fontsize=8)\n",
    "plt.show()"
   ]
  },
  {
   "cell_type": "code",
   "execution_count": 79,
   "id": "44f85970",
   "metadata": {},
   "outputs": [],
   "source": [
    "from sklearn.metrics import mean_squared_error"
   ]
  },
  {
   "cell_type": "code",
   "execution_count": 80,
   "id": "b680ac14",
   "metadata": {},
   "outputs": [],
   "source": [
    "from math import sqrt "
   ]
  },
  {
   "cell_type": "code",
   "execution_count": 81,
   "id": "b65909f6",
   "metadata": {},
   "outputs": [
    {
     "name": "stdout",
     "output_type": "stream",
     "text": [
      "RMSE: 15.059\n"
     ]
    }
   ],
   "source": [
    "#Evaluating the model, Root Mean Squared Error\n",
    "rmse = sqrt(mean_squared_error(y_pred_train, predictions_train))\n",
    "print('RMSE: %.3f' % rmse)"
   ]
  },
  {
   "cell_type": "code",
   "execution_count": null,
   "id": "5de2de46",
   "metadata": {},
   "outputs": [],
   "source": []
  },
  {
   "cell_type": "code",
   "execution_count": null,
   "id": "e28712ec",
   "metadata": {},
   "outputs": [],
   "source": []
  }
 ],
 "metadata": {
  "kernelspec": {
   "display_name": "Python 3 (ipykernel)",
   "language": "python",
   "name": "python3"
  },
  "language_info": {
   "codemirror_mode": {
    "name": "ipython",
    "version": 3
   },
   "file_extension": ".py",
   "mimetype": "text/x-python",
   "name": "python",
   "nbconvert_exporter": "python",
   "pygments_lexer": "ipython3",
   "version": "3.9.7"
  }
 },
 "nbformat": 4,
 "nbformat_minor": 5
}
